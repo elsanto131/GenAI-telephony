{
 "cells": [
  {
   "cell_type": "markdown",
   "id": "490479be",
   "metadata": {},
   "source": [
    "# 2. Génération de données synthétiques téléphonie + GenAI (RAG) + sécurité\n",
    "\n",
    "Ce notebook guide pas à pas la création de données simulées pour un projet téléphonie, avec un focus sur la sécurité et l'utilisation future en GenAI/RAG."
   ]
  },
  {
   "cell_type": "markdown",
   "id": "0d64a249",
   "metadata": {},
   "source": [
    "## Objectif du notebook\n",
    "\n",
    "- Générer un fichier CSV d'appels téléphoniques (CDR) avec masquage des données personnelles.\n",
    "- Créer des fichiers de dialogues synthétiques pour chaque thème métier.\n",
    "- Expliquer chaque étape de façon pédagogique."
   ]
  },
  {
   "cell_type": "markdown",
   "id": "2a583591",
   "metadata": {},
   "source": [
    "## Étapes du processus\n",
    "\n",
    "1. Importer les librairies\n",
    "2. Charger les variables d'environnement\n",
    "3. Définir les paramètres\n",
    "4. Masquer la PII\n",
    "5. Générer les appels\n",
    "6. Analyser le CSV\n",
    "7. Définir les templates de dialogues\n",
    "8. Générer les transcripts\n",
    "9. Conclusion"
   ]
  },
  {
   "cell_type": "markdown",
   "id": "5aa8e1bb",
   "metadata": {},
   "source": [
    "### Étape 1 : Import des librairies\n",
    "Dans cette étape, on importe toutes les librairies nécessaires pour le projet. On utilise des librairies standards de Python (comme os, datetime, hashlib) et des librairies spécialisées pour la data science (pandas, numpy). La librairie dotenv permet de charger des variables d'environnement depuis un fichier .env, ce qui est utile pour la sécurité et la configuration."
   ]
  },
  {
   "cell_type": "code",
   "execution_count": null,
   "id": "1c3a0458",
   "metadata": {},
   "outputs": [],
   "source": [
    "# ----- Import libraries PEP 8 -----\n",
    "# ----- Standard library -----\n",
    "import os \n",
    "import pandas as pd \n",
    "import numpy as np \n",
    "import hashlib \n",
    "from datetime import datetime, timedelta \n",
    "# ----- Third party libraries -----\n",
    "from dotenv import load_dotenv # to use .env file"
   ]
  },
  {
   "cell_type": "markdown",
   "id": "8da2b5d8",
   "metadata": {},
   "source": [
    "### Étape 2 : Chargement des variables d'environnement (.env)\n",
    "Cette étape consiste à charger les variables d'environnement stockées dans le fichier `.env` du projet. On utilise la librairie `dotenv` pour cela. Le but est de récupérer le `SALT_PII`, une chaîne aléatoire qui sert à renforcer la sécurité lors du masquage des données personnelles (PII). Ce salt sera utilisé pour hacher les numéros de téléphone et garantir leur confidentialité dans les données générées."
   ]
  },
  {
   "cell_type": "code",
   "execution_count": null,
   "id": "ee5c316e",
   "metadata": {},
   "outputs": [],
   "source": [
    "load_dotenv() # load .env file\n",
    "# PII (Personally Identifiable Information) to mask sensitive data (name, firstname, phone number, email, etc.)\n",
    "salt_pii = os.getenv(\"SALT_PII\", \"changeme\") "
   ]
  },
  {
   "cell_type": "markdown",
   "id": "5c659105",
   "metadata": {},
   "source": [
    "### Étape 3 : Création des dossiers de sortie\n",
    "Ici, on prépare les dossiers où seront enregistrés les fichiers générés par le script. Le dossier `data/raw` contiendra les données brutes (CSV des appels), et le sous-dossier `transcripts` contiendra les fichiers de dialogues. On utilise la fonction `os.makedirs` pour créer ces dossiers si besoin, sans écraser ceux qui existent déjà."
   ]
  },
  {
   "cell_type": "code",
   "execution_count": null,
   "id": "574ea5cd",
   "metadata": {},
   "outputs": [],
   "source": [
    "raw_directory = \"../data/raw\" # enregistrer les fichiers de données brutes (raw data)\n",
    "transcripts_directory = os.path.join(raw_directory, \"transcripts\") # combine chemin de fichiers \n",
    "os.makedirs(raw_directory, exist_ok=True) # crée le dossier raw\n",
    "os.makedirs(transcripts_directory, exist_ok=True) # crée le dossier transcripts s'il n'existe pas déjà."
   ]
  },
  {
   "cell_type": "markdown",
   "id": "97984aa2",
   "metadata": {},
   "source": [
    "### Étape 4 : Définition des paramètres de génération\n",
    "Dans cette étape, on définit les paramètres qui contrôlent la génération des données : le nombre d'appels à simuler, le nombre de fichiers de dialogues à créer, la liste des agents fictifs et les différents thèmes d'appels. Ces paramètres permettent d'adapter le jeu de données à la taille et à la diversité souhaitées."
   ]
  },
  {
   "cell_type": "code",
   "execution_count": null,
   "id": "e1f28e68",
   "metadata": {},
   "outputs": [],
   "source": [
    "numbers_of_calls = 200 # Nombre d'appels à générer dans le CSV\n",
    "numbers_of_transcripts = 18 # Nombre de fichiers de dialogues à générer (pour couvrir tous les thèmes)\n",
    "agents = [\"A\", \"B\", \"C\", \"D\", \"E\"] # Liste des identifiants d'agents (5 agents fictifs pour simuler la réalité)\n",
    "topics = [\"billing\", \"tech_support\", \"orders\", \"returns\", \"other\"] # Liste des thèmes d'appels (facturation, support, commandes, retours, autres)"
   ]
  },
  {
   "cell_type": "markdown",
   "id": "842db5f0",
   "metadata": {},
   "source": [
    "### Étape 5 : Fonction de masquage des données personnelles (PII)\n",
    "Pour garantir la confidentialité des données, on utilise une fonction qui masque les numéros de téléphone en les transformant en une suite de caractères incompréhensible (hash). On utilise le salt récupéré précédemment pour renforcer la sécurité du hachage. Cette étape est essentielle pour respecter les bonnes pratiques de sécurité et d'anonymisation."
   ]
  },
  {
   "cell_type": "code",
   "execution_count": null,
   "id": "6c3934dc",
   "metadata": {},
   "outputs": [],
   "source": [
    "def mask_pii(sensitive_data: str, salt: str = salt_pii) -> str: \n",
    "    \"\"\"\n",
    "    Hash une données sensible avec un salt pour masquer la PII.\n",
    "    On utilise la boîte à outils hashlib pour : Prendre le sel et le numéro, \n",
    "    les coller ensemble, Les transformer en une suite de caractères incompréhensible (le hash), \n",
    "    Retourner ce hash comme résultat\n",
    "    \n",
    "    Args:\n",
    "        sensitive_data (str): La donnée sensible à masquer (ex: numéro de téléphone).\n",
    "        salt (str): Le salt cryptographique pour renforcer la sécurité.\n",
    "    Returns:\n",
    "        str: Le hash SHA-256 de la donnée sensible combinée avec le salt.\n",
    "    \"\"\"\n",
    "    return hashlib.sha256((salt + sensitive_data).encode()).hexdigest() "
   ]
  },
  {
   "cell_type": "markdown",
   "id": "3389b3cf",
   "metadata": {},
   "source": [
    "### Étape 6 : Génération des appels téléphoniques (CDR)\n",
    "On génère ici les données simulant les appels téléphoniques : chaque appel a un identifiant, un numéro masqué, un agent, une date, une durée, un sujet et une résolution. On utilise des tirages aléatoires pour rendre le jeu de données réaliste et varié. Toutes les informations sont stockées dans une liste de dictionnaires, prête à être convertie en tableau de données."
   ]
  },
  {
   "cell_type": "code",
   "execution_count": null,
   "id": "e2c45bea",
   "metadata": {},
   "outputs": [],
   "source": [
    "np.random.seed(42) # Fixation de la graine aléatoire pour que les résultats soient reproductibles (toujours les mêmes données générées)\n",
    "start_date = datetime.now() - timedelta(days=30) # On choisit une date de départ : il y a 30 jours\n",
    "cdr_rows = [] # Préparation d'une liste vide pour stocker chaque appel généré\n",
    "for i in range(numbers_of_calls): # boucle qui répète l'opération 200 fois (numbers_of_calls), pour créer chaque appel\n",
    "    call_id = f\"CALL_{i+1:04d}\" # Création d'un identifiant unique pour chaque appel, sous la forme CALL_0001, CALL_0002, etc.\n",
    "    caller_number = f\"04{np.random.randint(2000000,3999999)}\" # On génère un numéro de téléphone fictif de l'appelant, qui commence par 04 et se termine par 7 chiffres aléatoires\n",
    "    caller_id = mask_pii(caller_number) # Variable qui va contenir le numéro masqué (hashé) de l'appelant, en utilisant la fonction mask_pii définie plus haut\n",
    "    agent_id = np.random.choice(agents) # Variable qui va contenir l'identifiant d'un agent choisi au hasard parmi la liste agents (.np.random.choice())\n",
    "\n",
    "     # Variable qui va contenir une date et heure de début d'appel, répartie sur les 30 derniers jours (43200 minutes = 30 jours) : np.random.randint(0, 43200) \n",
    "     # tire au hasard un nombre de minutes entre 0 et 43200 (soit 30 jours × 24h × 60min). \n",
    "     # timedelta(minutes=...) ajoute ce nombre de minutes à la date de départ pour obtenir une date et heure répartie sur le dernier mois.\n",
    "    start_timestamp = start_date + timedelta(minutes=np.random.randint(0, 43200)) \n",
    "    \n",
    "    call_duration_seconds = np.random.randint(30, 1800) # Variable qui va contenir une durée d'appel aléatoire entre 30 secondes et 1800 secondes (soit 30 minutes max)\n",
    "    topic = np.random.choice(topics) # Variable qui va contenir un sujet d'appel choisi au hasard parmi la liste topics\n",
    "    resolved = int((call_duration_seconds < 900 and topic != \"tech_support\") or np.random.rand() > 0.3) # Décide si l'appel est résolu (1) ou non (0), en fonction de la durée, du sujet, et d'un peu de hasard\n",
    "    cdr_rows.append({\n",
    "        \"call_id\": call_id,\n",
    "        \"caller_id\": caller_id,\n",
    "        \"agent_id\": agent_id,\n",
    "        \"start_ts\": start_timestamp.isoformat(),\n",
    "        \"duration_sec\": call_duration_seconds,\n",
    "        \"topic\": topic,\n",
    "        \"resolved\": resolved\n",
    "    })"
   ]
  },
  {
   "cell_type": "markdown",
   "id": "a1996519",
   "metadata": {},
   "source": [
    "### Étape 7 : Sauvegarde des appels dans un fichier CSV\n",
    "Une fois les appels générés, on les convertit en DataFrame (tableau de données) avec pandas, puis on les sauvegarde dans un fichier CSV. Ce fichier pourra être utilisé pour l’analyse, l’entraînement de modèles ou l’intégration dans un système RAG."
   ]
  },
  {
   "cell_type": "code",
   "execution_count": 27,
   "id": "a1e57cee",
   "metadata": {},
   "outputs": [
    {
     "name": "stdout",
     "output_type": "stream",
     "text": [
      "Fichier CDR généré: ../data/raw/cdr_synthetic.csv\n"
     ]
    }
   ],
   "source": [
    "cdr_df = pd.DataFrame(cdr_rows) # Variable qui va contenir un tableau de données (DataFrame) créé à partir de la liste cdr_rows. Chaque dictionnaire dans cdr_rows devient une ligne dans le tableau, avec les clés comme colonnes.\n",
    "cdr_df.to_csv(os.path.join(raw_directory, \"cdr_synthetic.csv\"), index=False) # Export et enregistrement(.to_csv()) du tableau cdr_df dans un fichier CSV nommé cdr_synthetic.csv dans le dossier raw_directory. index=False signifie qu'on ne veut pas inclure l'index des lignes dans le fichier CSV.\n",
    "print(f\"Fichier CDR généré: {os.path.join(raw_directory, 'cdr_synthetic.csv')}\") # Affiche un message pour indiquer où le fichier CSV a été enregistré"
   ]
  },
  {
   "cell_type": "markdown",
   "id": "0fff06bc",
   "metadata": {},
   "source": [
    "## Analyse rapide du CSV généré\n",
    "\n",
    "On vérifie le contenu du fichier généré et on affiche les premières lignes pour valider la structure."
   ]
  },
  {
   "cell_type": "markdown",
   "id": "9b4b30ad",
   "metadata": {},
   "source": [
    "### Étape 8 : Analyse rapide du CSV généré\n",
    "On vérifie ici que le fichier CSV a bien été créé et que sa structure correspond à nos attentes. On affiche les premières lignes du tableau pour valider la génération des données."
   ]
  },
  {
   "cell_type": "code",
   "execution_count": 28,
   "id": "dd93c098",
   "metadata": {},
   "outputs": [
    {
     "data": {
      "application/vnd.microsoft.datawrangler.viewer.v0+json": {
       "columns": [
        {
         "name": "index",
         "rawType": "int64",
         "type": "integer"
        },
        {
         "name": "call_id",
         "rawType": "object",
         "type": "string"
        },
        {
         "name": "caller_id",
         "rawType": "object",
         "type": "string"
        },
        {
         "name": "agent_id",
         "rawType": "object",
         "type": "string"
        },
        {
         "name": "start_ts",
         "rawType": "object",
         "type": "string"
        },
        {
         "name": "duration_sec",
         "rawType": "int64",
         "type": "integer"
        },
        {
         "name": "topic",
         "rawType": "object",
         "type": "string"
        },
        {
         "name": "resolved",
         "rawType": "int64",
         "type": "integer"
        }
       ],
       "ref": "ab33557c-d515-43f9-950d-51ca54001e62",
       "rows": [
        [
         "0",
         "CALL_0001",
         "b2b79fe6a94f1d82fa5972eaa6647146fd97d3cec89b53d95d611cdd8ad1a4cc",
         "D",
         "2025-08-16T07:42:51.470748",
         "1324",
         "orders",
         "1"
        ],
        [
         "1",
         "CALL_0002",
         "9a414725d4d31b8e443e0f5f4ea3d9eb1c74f6291422f8f72eede9bee7cc1bef",
         "B",
         "2025-08-27T10:12:51.470748",
         "1268",
         "orders",
         "1"
        ],
        [
         "2",
         "CALL_0003",
         "aab3e738cb3d19170392f1516db9aae2398b40af97a0f94c4d6cc4f3f27a5b69",
         "D",
         "2025-08-26T20:25:51.470748",
         "160",
         "other",
         "1"
        ],
        [
         "3",
         "CALL_0004",
         "34f186ba3c2f4059776724f32f746e17a124f51cbba67f3aa485e5b24d0639b0",
         "D",
         "2025-08-17T09:55:51.470748",
         "1245",
         "returns",
         "0"
        ],
        [
         "4",
         "CALL_0005",
         "ea24093ef6253cec250cd830d4a8ae0692f362c539bf23ed6882568b3eb805f5",
         "B",
         "2025-09-04T15:35:51.470748",
         "282",
         "returns",
         "1"
        ]
       ],
       "shape": {
        "columns": 7,
        "rows": 5
       }
      },
      "text/html": [
       "<div>\n",
       "<style scoped>\n",
       "    .dataframe tbody tr th:only-of-type {\n",
       "        vertical-align: middle;\n",
       "    }\n",
       "\n",
       "    .dataframe tbody tr th {\n",
       "        vertical-align: top;\n",
       "    }\n",
       "\n",
       "    .dataframe thead th {\n",
       "        text-align: right;\n",
       "    }\n",
       "</style>\n",
       "<table border=\"1\" class=\"dataframe\">\n",
       "  <thead>\n",
       "    <tr style=\"text-align: right;\">\n",
       "      <th></th>\n",
       "      <th>call_id</th>\n",
       "      <th>caller_id</th>\n",
       "      <th>agent_id</th>\n",
       "      <th>start_ts</th>\n",
       "      <th>duration_sec</th>\n",
       "      <th>topic</th>\n",
       "      <th>resolved</th>\n",
       "    </tr>\n",
       "  </thead>\n",
       "  <tbody>\n",
       "    <tr>\n",
       "      <th>0</th>\n",
       "      <td>CALL_0001</td>\n",
       "      <td>b2b79fe6a94f1d82fa5972eaa6647146fd97d3cec89b53...</td>\n",
       "      <td>D</td>\n",
       "      <td>2025-08-16T07:42:51.470748</td>\n",
       "      <td>1324</td>\n",
       "      <td>orders</td>\n",
       "      <td>1</td>\n",
       "    </tr>\n",
       "    <tr>\n",
       "      <th>1</th>\n",
       "      <td>CALL_0002</td>\n",
       "      <td>9a414725d4d31b8e443e0f5f4ea3d9eb1c74f6291422f8...</td>\n",
       "      <td>B</td>\n",
       "      <td>2025-08-27T10:12:51.470748</td>\n",
       "      <td>1268</td>\n",
       "      <td>orders</td>\n",
       "      <td>1</td>\n",
       "    </tr>\n",
       "    <tr>\n",
       "      <th>2</th>\n",
       "      <td>CALL_0003</td>\n",
       "      <td>aab3e738cb3d19170392f1516db9aae2398b40af97a0f9...</td>\n",
       "      <td>D</td>\n",
       "      <td>2025-08-26T20:25:51.470748</td>\n",
       "      <td>160</td>\n",
       "      <td>other</td>\n",
       "      <td>1</td>\n",
       "    </tr>\n",
       "    <tr>\n",
       "      <th>3</th>\n",
       "      <td>CALL_0004</td>\n",
       "      <td>34f186ba3c2f4059776724f32f746e17a124f51cbba67f...</td>\n",
       "      <td>D</td>\n",
       "      <td>2025-08-17T09:55:51.470748</td>\n",
       "      <td>1245</td>\n",
       "      <td>returns</td>\n",
       "      <td>0</td>\n",
       "    </tr>\n",
       "    <tr>\n",
       "      <th>4</th>\n",
       "      <td>CALL_0005</td>\n",
       "      <td>ea24093ef6253cec250cd830d4a8ae0692f362c539bf23...</td>\n",
       "      <td>B</td>\n",
       "      <td>2025-09-04T15:35:51.470748</td>\n",
       "      <td>282</td>\n",
       "      <td>returns</td>\n",
       "      <td>1</td>\n",
       "    </tr>\n",
       "  </tbody>\n",
       "</table>\n",
       "</div>"
      ],
      "text/plain": [
       "     call_id                                          caller_id agent_id  \\\n",
       "0  CALL_0001  b2b79fe6a94f1d82fa5972eaa6647146fd97d3cec89b53...        D   \n",
       "1  CALL_0002  9a414725d4d31b8e443e0f5f4ea3d9eb1c74f6291422f8...        B   \n",
       "2  CALL_0003  aab3e738cb3d19170392f1516db9aae2398b40af97a0f9...        D   \n",
       "3  CALL_0004  34f186ba3c2f4059776724f32f746e17a124f51cbba67f...        D   \n",
       "4  CALL_0005  ea24093ef6253cec250cd830d4a8ae0692f362c539bf23...        B   \n",
       "\n",
       "                     start_ts  duration_sec    topic  resolved  \n",
       "0  2025-08-16T07:42:51.470748          1324   orders         1  \n",
       "1  2025-08-27T10:12:51.470748          1268   orders         1  \n",
       "2  2025-08-26T20:25:51.470748           160    other         1  \n",
       "3  2025-08-17T09:55:51.470748          1245  returns         0  \n",
       "4  2025-09-04T15:35:51.470748           282  returns         1  "
      ]
     },
     "execution_count": 28,
     "metadata": {},
     "output_type": "execute_result"
    }
   ],
   "source": [
    "cdr_df.head() # Affiche les 5 premières lignes du DataFrame pour vérifier la génération"
   ]
  },
  {
   "cell_type": "markdown",
   "id": "9cb07b61",
   "metadata": {},
   "source": [
    "### Étape 9 : Définition des templates de dialogues\n",
    "Pour simuler des conversations téléphoniques, on prépare des modèles de dialogues pour chaque thème métier (facturation, support, commandes, retours, autres). Chaque template contient plusieurs échanges typiques entre un client et un agent."
   ]
  },
  {
   "cell_type": "code",
   "execution_count": 29,
   "id": "c92bc308",
   "metadata": {},
   "outputs": [],
   "source": [
    "dialogue_templates = { # Dictionnaire qui contient des templates de dialogues pour chaque sujet. Chaque sujet (clé) a une liste de lignes de dialogue (valeur) entre un client et un agent.\n",
    "    \"billing\": [\n",
    "        \"Client: Bonjour, j'ai une question sur ma facture.\",\n",
    "        \"Agent: Bien sûr, pouvez-vous préciser votre demande ?\",\n",
    "        \"Client: Il y a un montant que je ne comprends pas.\",\n",
    "        \"Agent: Je vérifie cela pour vous.\"\n",
    "    ],\n",
    "    \"tech_support\": [\n",
    "        \"Client: Mon internet ne fonctionne plus.\",\n",
    "        \"Agent: Avez-vous essayé de redémarrer votre box ?\",\n",
    "        \"Client: Oui, mais ça ne marche toujours pas.\",\n",
    "        \"Agent: Je vais lancer un diagnostic.\"\n",
    "    ],\n",
    "    \"orders\": [\n",
    "        \"Client: Je souhaite suivre ma commande.\",\n",
    "        \"Agent: Pouvez-vous me donner votre numéro de commande ?\",\n",
    "        \"Client: C'est le 12345.\",\n",
    "        \"Agent: Elle est en cours de livraison.\"\n",
    "    ],\n",
    "    \"returns\": [\n",
    "        \"Client: Je veux retourner un produit.\",\n",
    "        \"Agent: Quelle est la raison du retour ?\",\n",
    "        \"Client: Il ne correspond pas à ma commande.\",\n",
    "        \"Agent: Je lance la procédure de retour.\"\n",
    "    ],\n",
    "    \"other\": [\n",
    "        \"Client: J'ai une question générale.\",\n",
    "        \"Agent: Je vous écoute.\",\n",
    "        \"Client: Quels sont vos horaires d'ouverture ?\",\n",
    "        \"Agent: Nous sommes ouverts de 8h à 18h.\"\n",
    "    ]\n",
    "}"
   ]
  },
  {
   "cell_type": "markdown",
   "id": "c34bace5",
   "metadata": {},
   "source": [
    "### Étape 10 : Génération des fichiers de dialogues\n",
    "On génère ici les fichiers de dialogues : pour chaque thème et chaque fichier, on personnalise le nom du client et on sauvegarde le dialogue dans un fichier texte. Cela permet d’obtenir des exemples variés et réalistes pour l’entraînement ou l’analyse."
   ]
  },
  {
   "cell_type": "code",
   "execution_count": null,
   "id": "0be1f849",
   "metadata": {},
   "outputs": [
    {
     "name": "stdout",
     "output_type": "stream",
     "text": [
      "Transcript généré: ../data/raw/transcripts/billing_01.txt\n",
      "Transcript généré: ../data/raw/transcripts/other_02.txt\n",
      "Transcript généré: ../data/raw/transcripts/other_03.txt\n",
      "Transcript généré: ../data/raw/transcripts/tech_support_04.txt\n",
      "Transcript généré: ../data/raw/transcripts/returns_05.txt\n",
      "Transcript généré: ../data/raw/transcripts/billing_06.txt\n",
      "Transcript généré: ../data/raw/transcripts/billing_07.txt\n",
      "Transcript généré: ../data/raw/transcripts/orders_08.txt\n",
      "Transcript généré: ../data/raw/transcripts/other_09.txt\n",
      "Transcript généré: ../data/raw/transcripts/billing_10.txt\n",
      "Transcript généré: ../data/raw/transcripts/other_11.txt\n",
      "Transcript généré: ../data/raw/transcripts/billing_12.txt\n",
      "Transcript généré: ../data/raw/transcripts/tech_support_13.txt\n",
      "Transcript généré: ../data/raw/transcripts/returns_14.txt\n",
      "Transcript généré: ../data/raw/transcripts/billing_15.txt\n",
      "Transcript généré: ../data/raw/transcripts/other_16.txt\n",
      "Transcript généré: ../data/raw/transcripts/tech_support_17.txt\n",
      "Transcript généré: ../data/raw/transcripts/billing_18.txt\n",
      "Données synthétiques générées avec succès.\n"
     ]
    }
   ],
   "source": [
    "# Generation des fichiers de dialogues\n",
    "for i in range(numbers_of_transcripts):\n",
    "    topic = np.random.choice(topics) \n",
    "    dialogue = dialogue_templates[topic] \n",
    "    \n",
    "    # Ajout d'une variation simple\n",
    "    dialogue = [line.replace(\"Client\", f\"Client_{i+1}\") for line in dialogue] # line.replace() remplace \"Client\" par \"Client_1\", \"Client_2\", etc. pour chaque ligne du dialogue, afin d'ajouter une variation simple et rendre chaque fichier unique.\n",
    "    transcript_path = os.path.join(transcripts_directory, f\"{topic}_{i+1:02d}.txt\") # .path.join() crée le chemin complet vers le fichier de transcription en combinant le dossier transcripts avec un nom de fichier basé sur le sujet et un numéro séquentiel (par exemple, billing_01.txt, tech_support_02.txt, etc.)\n",
    "    \n",
    "    with open(transcript_path, \"w\", encoding=\"utf-8\") as f: # open() ouvre le fichier en mode écriture (\"w\") avec l'encodage UTF-8 pour supporter les caractères spéciaux. as f crée un objet fichier (f) pour écrire dedans.\n",
    "        f.write(\"\\n\".join(dialogue)) # .write() écrit le dialogue dans le fichier, en joignant les lignes avec des sauts de ligne (\"\\n\".join(dialogue))\n",
    "    print(f\"Transcript généré: {transcript_path}\") # Affiche un message pour indiquer où le fichier de transcription a été enregistré\n",
    "\n",
    "print(\"Données synthétiques générées avec succès.\") # Message final pour indiquer que tout s'est bien passé"
   ]
  },
  {
   "cell_type": "markdown",
   "id": "c7280054",
   "metadata": {},
   "source": [
    "## Conclusion\n",
    "\n",
    "Ce notebook a permis de générer des données synthétiques téléphonie, d'appliquer des bonnes pratiques de sécurité (masquage PII), et de créer des dialogues variés pour l'entraînement ou l'analyse GenAI/RAG."
   ]
  }
 ],
 "metadata": {
  "kernelspec": {
   "display_name": "Python 3",
   "language": "python",
   "name": "python3"
  },
  "language_info": {
   "codemirror_mode": {
    "name": "ipython",
    "version": 3
   },
   "file_extension": ".py",
   "mimetype": "text/x-python",
   "name": "python",
   "nbconvert_exporter": "python",
   "pygments_lexer": "ipython3",
   "version": "3.10.17"
  }
 },
 "nbformat": 4,
 "nbformat_minor": 5
}
