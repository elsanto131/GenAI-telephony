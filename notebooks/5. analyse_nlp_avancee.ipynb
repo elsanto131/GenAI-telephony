{
 "cells": [
  {
   "cell_type": "markdown",
   "id": "caf7b035",
   "metadata": {},
   "source": [
    "# 6. Analyse NLP avancée des dialogues téléphoniques"
   ]
  },
  {
   "cell_type": "markdown",
   "id": "e65a5901",
   "metadata": {},
   "source": [
    "Ce notebook applique des techniques avancées de NLP sur les dialogues téléphoniques du projet :\n",
    "- Classification des échanges\n",
    "- Résumé automatique\n",
    "- Extraction de thèmes complexes\n",
    "Il s’appuie sur les données préparées dans les notebooks précédents."
   ]
  },
  {
   "cell_type": "markdown",
   "id": "d1eefb91",
   "metadata": {},
   "source": [
    "## Objectif\n",
    "\n",
    "L’objectif de ce notebook est de :\n",
    "- Approfondir l’analyse des dialogues avec des méthodes NLP avancées\n",
    "- Classifier les échanges selon leur type ou leur intention\n",
    "- Générer des résumés automatiques des conversations\n",
    "- Explorer des modèles ou outils spécialisés pour le français"
   ]
  },
  {
   "cell_type": "markdown",
   "id": "8fa2e720",
   "metadata": {},
   "source": [
    "### Étape 1 : Import des librairies\n",
    "\n",
    "Dans cette étape, on importe toutes les librairies nécessaires pour le NLP avancé (transformers, scikit-learn, etc.)."
   ]
  },
  {
   "cell_type": "code",
   "execution_count": null,
   "id": "e6e52bc7",
   "metadata": {},
   "outputs": [],
   "source": [
    "\n",
    "# ----- Standard library -----\n",
    "import os \n",
    "import pandas as pd \n",
    "import numpy as np \n",
    "import matplotlib.pyplot as plt \n",
    "from sklearn.feature_extraction.text import CountVectorizer \n",
    "from sklearn.cluster import KMeans \n",
    "from transformers import pipeline \n",
    "import matplotlib.pyplot as plt "
   ]
  },
  {
   "cell_type": "markdown",
   "id": "70c6fe50",
   "metadata": {},
   "source": [
    "### Étape 2 : Chargement des dialogues\n",
    "\n",
    "On charge le contenu de tous les dialogues dans une liste Python pour faciliter les traitements NLP avancés."
   ]
  },
  {
   "cell_type": "code",
   "execution_count": null,
   "id": "1b990b44",
   "metadata": {},
   "outputs": [
    {
     "name": "stdout",
     "output_type": "stream",
     "text": [
      "\n",
      "Dialogues chargés\n",
      "Nombre de dialogues chargés : 18\n"
     ]
    }
   ],
   "source": [
    "# Recuperation de la liste fichiers\n",
    "transcripts_folder = \"../data/raw/transcripts\" \n",
    "files = os.listdir(transcripts_folder) \n",
    "# Liste des dialogues\n",
    "all_dialogues = [] \n",
    "# Lecture de chaque fichier et ajout à la liste\n",
    "for f in files: \n",
    "    with open(os.path.join(transcripts_folder, f), \"r\", encoding=\"utf-8\") as file: \n",
    "        all_dialogues.append(file.read()) \n",
    "        \n",
    "print(\"\\nDialogues chargés\") \n",
    "print(\"Nombre de dialogues chargés :\", len(all_dialogues)) "
   ]
  },
  {
   "cell_type": "markdown",
   "id": "f3c1b51a",
   "metadata": {},
   "source": [
    "### Étape 3 : Classification des dialogues\n",
    "\n",
    "Dans cette étape, on utilise un modèle pré-entraîné pour classifier le type ou le ressenti des dialogues téléphoniques."
   ]
  },
  {
   "cell_type": "code",
   "execution_count": null,
   "id": "cbf0929d",
   "metadata": {},
   "outputs": [
    {
     "name": "stderr",
     "output_type": "stream",
     "text": [
      "Device set to use mps:0\n",
      "Asking to truncate to max_length but no maximum length is provided and the model has no predefined maximum length. Default to no truncation.\n"
     ]
    },
    {
     "name": "stdout",
     "output_type": "stream",
     "text": [
      "Résultat classification : {'sequence': \"Client_7: Bonjour, j'ai une question sur ma facture.\\nAgent: Bien sûr, pouvez-vous préciser votre demande ?\\nClient_7: Il y a un montant que je ne comprends pas.\\nAgent: Je vérifie cela pour vous.\", 'labels': ['demande', 'information', 'réclamation', 'négatif', 'positif'], 'scores': [0.4228357970714569, 0.28346553444862366, 0.26651376485824585, 0.023674825206398964, 0.0035100553650408983]}\n"
     ]
    }
   ],
   "source": [
    "# pipeline() permet de créer un pipeline de classification de texte avec un modèle pré-entraîné\n",
    "classifier = pipeline(task=\"zero-shot-classification\", model=\"MoritzLaurer/DeBERTa-v3-base-mnli-fever-anli\") \n",
    "result = classifier( # classifier() permet de classer un texte en fonction de labels prédéfinis\n",
    "    all_dialogues[0], # Texte à classer (ici le premier dialogue de la liste)\n",
    "    candidate_labels=[\"positif\", \"négatif\", \"demande\", \"réclamation\", \"information\"] # Labels prédéfinis pour la classification\n",
    ")\n",
    "\n",
    "print(\"Résultat classification :\", result)"
   ]
  },
  {
   "cell_type": "markdown",
   "id": "f95ab189",
   "metadata": {},
   "source": [
    "### Interprétation du résultat de la classification\n",
    "\n",
    "Le modèle zero-shot a analysé le dialogue et attribué à chaque label une probabilité :\n",
    "\n",
    "- **'demande'** (score : 0.42) : Le modèle estime que le dialogue correspond principalement à une demande du client.\n",
    "- **'information'** (score : 0.28) : Le dialogue contient aussi une recherche ou une transmission d’information.\n",
    "- **'réclamation'** (score : 0.26) : Il y a une part de réclamation, mais moins marquée.\n",
    "- **'négatif'** et **'positif'** (scores très faibles) : Le dialogue n’est pas perçu comme émotionnel.\n",
    "\n",
    "Les scores indiquent la confiance du modèle pour chaque catégorie : plus le score est élevé, plus le dialogue correspond à ce label selon le modèle.\n",
    "\n",
    "Ce type de classification permet d’identifier rapidement la nature principale de chaque"
   ]
  },
  {
   "cell_type": "markdown",
   "id": "b259f042",
   "metadata": {},
   "source": [
    "### Étape 4 : Résumé automatique des dialogues\n",
    "\n",
    "Dans cette étape, on utilise un modèle pré-entraîné pour générer un résumé automatique du contenu d’un dialogue téléphonique.  \n",
    "Cela permet de synthétiser l’information principale échangée lors de l’appel."
   ]
  },
  {
   "cell_type": "code",
   "execution_count": null,
   "id": "538eedf1",
   "metadata": {},
   "outputs": [
    {
     "name": "stderr",
     "output_type": "stream",
     "text": [
      "Device set to use mps:0\n",
      "/usr/local/lib/python3.10/site-packages/transformers/pytorch_utils.py:335: UserWarning: To copy construct from a tensor, it is recommended to use sourceTensor.clone().detach() or sourceTensor.clone().detach().requires_grad_(True), rather than torch.tensor(sourceTensor).\n",
      "  test_elements = torch.tensor(test_elements)\n"
     ]
    },
    {
     "name": "stdout",
     "output_type": "stream",
     "text": [
      "Résumé automatique :  Client_7: Bonjour, j'ai une question sur ma facture. Agent: Bien sûr, pouvez-vous préciser votre demande ?Client_7 : Il y a un montant que je ne comprends pas\n"
     ]
    }
   ],
   "source": [
    "# import tu pipeline de résumé\n",
    "summarizer = pipeline( # pipeline() permet de créer un pipeline de résumé de texte avec un modèle pré-entraîné\n",
    "    task=\"summarization\", # \"summarization\" : indique la tâche de résumé automatique\n",
    "    model=\"facebook/bart-large-cnn\" # \"facebook/bart-large-cnn\" : modèle pré-entraîné pour le résumé\n",
    ")\n",
    "\n",
    "# Génère un résumé du premier dialogue\n",
    "summary = summarizer( # summarizer() permet de générer un résumé à partir d'un texte donné\n",
    "    all_dialogues[0], # all_dialogues[0] : texte du premier dialogue à résumer\n",
    "    max_length=60, # max_length=60 : longueur maximale du résumé\n",
    "    min_length=20, # min_length=20 : longueur minimale du résumé\n",
    "    do_sample=False # do_sample=False : pas d’échantillonnage aléatoire\n",
    ")\n",
    "\n",
    "print(\"Résumé automatique :\", summary[0]['summary_text'])"
   ]
  },
  {
   "cell_type": "markdown",
   "id": "57e64750",
   "metadata": {},
   "source": [
    "### Interprétation du résultat du résumé automatique\n",
    "\n",
    "Le modèle `facebook/bart-large-cnn` a généré un résumé du dialogue téléphonique.  \n",
    "Ce résumé synthétise les informations principales échangées lors de l’appel, en anglais car le modèle est optimisé pour cette langue.  \n",
    "Pour des dialogues en français, le résumé peut être moins pertinent ou partiellement traduit.\n",
    "\n",
    "Ce type de résumé permet d’obtenir rapidement l’essentiel d’une conversation, utile pour l’analyse ou l’archivage des échanges."
   ]
  },
  {
   "cell_type": "markdown",
   "id": "376cd23f",
   "metadata": {},
   "source": [
    "### Étape 5 : Extraction de thèmes complexes\n",
    "\n",
    "Dans cette étape, on utilise la méthode `CountVectorizer` de scikit-learn pour extraire automatiquement les thèmes ou sujets principaux abordés dans chaque dialogue téléphonique.\n",
    "Une liste personnalisée de mots vides en français permet d’ignorer les mots courants et de se concentrer sur les termes porteurs de sens.\n",
    "Les 10 mots les plus fréquents sont affichés, ce qui donne une vue synthétique des sujets récurrents dans les échanges."
   ]
  },
  {
   "cell_type": "code",
   "execution_count": 6,
   "id": "c5c3fd3c",
   "metadata": {},
   "outputs": [
    {
     "name": "stdout",
     "output_type": "stream",
     "text": [
      "Principaux mots/thèmes : ['agent' 'bien' 'bonjour' 'demande' 'facture' 'montant' 'pouvez'\n",
      " 'question' 'sûr' 'vérifie']\n"
     ]
    }
   ],
   "source": [
    "\n",
    "\n",
    "french_stop_words = [\n",
    "    \"au\", \"aux\", \"avec\", \"ce\", \"ces\", \"dans\", \"de\", \"des\", \"du\", \"elle\", \"en\", \"et\", \"eux\", \"il\", \"je\", \"la\", \"le\",\n",
    "    \"leur\", \"lui\", \"ma\", \"mais\", \"me\", \"même\", \"mes\", \"moi\", \"mon\", \"ne\", \"nos\", \"notre\", \"nous\", \"on\", \"ou\", \"par\",\n",
    "    \"pas\", \"pour\", \"qu\", \"que\", \"qui\", \"sa\", \"se\", \"ses\", \"son\", \"sur\", \"ta\", \"te\", \"tes\", \"toi\", \"ton\", \"tu\", \"un\",\n",
    "    \"une\", \"vos\", \"votre\", \"vous\", \"c\", \"d\", \"j\", \"l\", \"à\", \"m\", \"n\", \"s\", \"t\", \"y\", \"été\", \"étée\", \"étées\", \"étés\",\n",
    "    \"étant\", \"suis\", \"es\", \"est\", \"sommes\", \"êtes\", \"sont\", \"serai\", \"seras\", \"sera\", \"serons\", \"serez\", \"seront\",\n",
    "    \"serais\", \"serait\", \"serions\", \"seriez\", \"seraient\", \"étais\", \"était\", \"étions\", \"étiez\", \"étaient\", \"fus\", \"fut\",\n",
    "    \"fûmes\", \"fûtes\", \"furent\", \"sois\", \"soit\", \"soyons\", \"soyez\", \"soient\", \"fusse\", \"fusses\", \"fût\", \"fussions\",\n",
    "    \"fussiez\", \"fussent\", \"ayant\", \"eu\", \"eue\", \"eues\", \"eus\", \"ai\", \"as\", \"avons\", \"avez\", \"ont\", \"aurai\", \"auras\",\n",
    "    \"aura\", \"aurons\", \"aurez\", \"auront\", \"aurais\", \"aurait\", \"aurions\", \"auriez\", \"auraient\", \"avais\", \"avait\",\n",
    "    \"avions\", \"aviez\", \"avaient\", \"eut\", \"eûmes\", \"eûtes\", \"eurent\", \"aie\", \"aies\", \"ait\", \"ayons\", \"ayez\", \"aient\",\n",
    "    \"eusse\", \"eusses\", \"eût\", \"eussions\", \"eussiez\", \"eussent\", \"ceci\", \"cela\", \"celà\", \"cet\", \"cette\", \"ici\", \"ils\",\n",
    "    \"les\", \"leurs\", \"quel\", \"quels\", \"quelle\", \"quelles\", \"sans\", \"soi\"\n",
    "]\n",
    "\n",
    "vectorizer = CountVectorizer(stop_words=french_stop_words, max_features=10)\n",
    "X = vectorizer.fit_transform(all_dialogues)\n",
    "print(\"Principaux mots/thèmes :\", vectorizer.get_feature_names_out())"
   ]
  },
  {
   "cell_type": "markdown",
   "id": "63c28d18",
   "metadata": {},
   "source": [
    "### Interprétation :\n",
    "Les mots affichés sont les thèmes principaux détectés dans l’ensemble des dialogues.\n",
    "Cette approche donne une vue synthétique des sujets les plus fréquemment abordés lors des appels."
   ]
  },
  {
   "cell_type": "markdown",
   "id": "65b811a6",
   "metadata": {},
   "source": [
    "### Étape 6 : Visualisation des thèmes principaux\n",
    "\n",
    "Pour aller plus loin dans l’analyse, nous pouvons visualiser la fréquence des mots/thèmes principaux détectés dans les dialogues téléphoniques.  \n",
    "Une représentation graphique permet d’identifier rapidement les sujets les plus récurrents."
   ]
  },
  {
   "cell_type": "code",
   "execution_count": 9,
   "id": "b7ca1b8f",
   "metadata": {},
   "outputs": [
    {
     "data": {
      "image/png": "[encoded data removed]",
      "text/plain": [
       "<Figure size 800x400 with 1 Axes>"
      ]
     },
     "metadata": {},
     "output_type": "display_data"
    }
   ],
   "source": [
    "word_counts = X.toarray().sum(axis=0) # .toarray() convertit la matrice creuse en un tableau dense, sum(axis=0) calcule la somme des occurrences pour chaque mot\n",
    "words = vectorizer.get_feature_names_out() # .get_feature_names_out() récupère les mots correspondant aux colonnes de la matrice\n",
    "\n",
    "plt.figure(figsize=(8, 4)) # Définit la taille de la figure (largeur, hauteur) en pouces\n",
    "plt.bar(words, word_counts, color='skyblue') # Crée un graphique en barres avec les mots et leurs occurrences\n",
    "plt.title(\"Fréquence des thèmes principaux dans les dialogues\") # Titre du graphique\n",
    "plt.xlabel(\"Thèmes\") # Label de l'axe des x\n",
    "plt.ylabel(\"Nombre d'occurrences\") # Label de l'axe des y\n",
    "plt.xticks(rotation=45) # Rotation des étiquettes de l'axe des x pour une meilleure lisibilité\n",
    "plt.tight_layout() # Ajuste automatiquement les paramètres du sous-graphique pour qu'ils s'adaptent à la figure\n",
    "plt.show() # Affiche le graphique"
   ]
  },
  {
   "cell_type": "markdown",
   "id": "295d1f94",
   "metadata": {},
   "source": [
    "### Étape 7 : Segmentation thématique des dialogues\n",
    "\n",
    "Pour aller plus loin, nous pouvons regrouper les dialogues selon leurs thèmes principaux à l’aide d’un algorithme de clustering (ex : KMeans).  \n",
    "Cela permet d’identifier des groupes de conversations similaires et d’analyser les tendances ou problématiques récurrentes.\n",
    "\n",
    "Ci-dessous, un exemple de clustering avec scikit-learn :"
   ]
  },
  {
   "cell_type": "code",
   "execution_count": null,
   "id": "4dc675bd",
   "metadata": {},
   "outputs": [
    {
     "name": "stdout",
     "output_type": "stream",
     "text": [
      "Dialogue 0 : Cluster 0\n",
      "Dialogue 1 : Cluster 0\n",
      "Dialogue 2 : Cluster 0\n",
      "Dialogue 3 : Cluster 2\n",
      "Dialogue 4 : Cluster 0\n",
      "Dialogue 5 : Cluster 0\n",
      "Dialogue 6 : Cluster 0\n",
      "Dialogue 7 : Cluster 1\n",
      "Dialogue 8 : Cluster 1\n",
      "Dialogue 9 : Cluster 1\n",
      "Dialogue 10 : Cluster 1\n",
      "Dialogue 11 : Cluster 0\n",
      "Dialogue 12 : Cluster 1\n",
      "Dialogue 13 : Cluster 1\n",
      "Dialogue 14 : Cluster 1\n",
      "Dialogue 15 : Cluster 1\n",
      "Dialogue 16 : Cluster 1\n",
      "Dialogue 17 : Cluster 1\n"
     ]
    },
    {
     "name": "stderr",
     "output_type": "stream",
     "text": [
      "/usr/local/lib/python3.10/site-packages/threadpoolctl.py:1226: RuntimeWarning: \n",
      "Found Intel OpenMP ('libiomp') and LLVM OpenMP ('libomp') loaded at\n",
      "the same time. Both libraries are known to be incompatible and this\n",
      "can cause random crashes or deadlocks on Linux when loaded in the\n",
      "same Python program.\n",
      "Using threadpoolctl may cause crashes or deadlocks. For more\n",
      "information and possible workarounds, please see\n",
      "    https://github.com/joblib/threadpoolctl/blob/master/multiple_openmp.md\n",
      "\n",
      "  warnings.warn(msg, RuntimeWarning)\n"
     ]
    }
   ],
   "source": [
    "# 3 clusters de dialogues\n",
    "kmeans = KMeans(n_clusters=3, random_state=42) \n",
    "# Regrouper les dialogues en clusters basés sur leurs similarités\n",
    "clusters = kmeans.fit_predict(X) \n",
    "\n",
    "# Affiche le cluster de chaque dialogue\n",
    "for i, label in enumerate(clusters): \n",
    "    print(f\"Dialogue {i} : Cluster {label}\")"
   ]
  },
  {
   "cell_type": "markdown",
   "id": "e921d094",
   "metadata": {},
   "source": [
    "### Interprétation du clustering\n",
    "\n",
    "Chaque dialogue téléphonique a été automatiquement regroupé dans un cluster (groupe) selon la similarité des thèmes abordés.  \n",
    "Par exemple, le résultat affiche :\n",
    "\n",
    "- **Cluster 0** : Dialogues partageant des thèmes ou mots-clés similaires (majorité des dialogues).\n",
    "- **Cluster 1** : Un autre groupe de dialogues avec des sujets différents.\n",
    "- **Cluster 2** : Un groupe plus rare ou spécifique.\n",
    "\n",
    "**Ce que cela signifie :**\n",
    "Le clustering permet d’identifier des groupes de conversations qui abordent des sujets proches.  \n",
    "Cela facilite :\n",
    "- La détection de tendances ou problématiques récurrentes.\n",
    "- L’analyse ciblée de certains groupes (ex : réclamations, demandes d’information).\n",
    "- La personnalisation de réponses ou d’actions selon le type de dialogue.\n",
    "\n",
    "Pour aller plus loin, il est possible d’explorer le contenu de chaque cluster ou de visualiser leur répartition."
   ]
  },
  {
   "cell_type": "markdown",
   "id": "a31562ec",
   "metadata": {},
   "source": [
    "### Étape 8 : Exploration et visualisation des clusters\n",
    "\n",
    "Après avoir regroupé les dialogues en clusters, il est utile de visualiser la répartition des groupes et d’explorer le contenu de chaque cluster.  \n",
    "Cela permet de :\n",
    "- Comprendre la proportion de chaque type de dialogue dans l’ensemble des appels.\n",
    "- Identifier les caractéristiques ou thèmes spécifiques à chaque groupe.\n",
    "- Illustrer concrètement les différences entre clusters à l’aide d’exemples.\n",
    "\n",
    "La cellule suivante affiche un graphique de la répartition des clusters et montre quelques exemples de dialogues pour chaque"
   ]
  },
  {
   "cell_type": "code",
   "execution_count": 14,
   "id": "777b329b",
   "metadata": {},
   "outputs": [
    {
     "data": {
      "image/png": "[encoded data removed]",
      "text/plain": [
       "<Figure size 640x480 with 1 Axes>"
      ]
     },
     "metadata": {},
     "output_type": "display_data"
    },
    {
     "name": "stdout",
     "output_type": "stream",
     "text": [
      "\n",
      "--- Exemples du Cluster 0 ---\n",
      "Dialogue 0:\n",
      "Client_7: Bonjour, j'ai une question sur ma facture.\n",
      "Agent: Bien sûr, pouvez-vous préciser votre demande ?\n",
      "Client_7: Il y a un montant que je ne comprends pas.\n",
      "Agent: Je vérifie cela pour vous....\n",
      "\n",
      "Dialogue 1:\n",
      "Client_6: Bonjour, j'ai une question sur ma facture.\n",
      "Agent: Bien sûr, pouvez-vous préciser votre demande ?\n",
      "Client_6: Il y a un montant que je ne comprends pas.\n",
      "Agent: Je vérifie cela pour vous....\n",
      "\n",
      "\n",
      "--- Exemples du Cluster 1 ---\n",
      "Dialogue 7:\n",
      "Client_9: J'ai une question générale.\n",
      "Agent: Je vous écoute.\n",
      "Client_9: Quels sont vos horaires d'ouverture ?\n",
      "Agent: Nous sommes ouverts de 8h à 18h....\n",
      "\n",
      "Dialogue 8:\n",
      "Client_4: Mon internet ne fonctionne plus.\n",
      "Agent: Avez-vous essayé de redémarrer votre box ?\n",
      "Client_4: Oui, mais ça ne marche toujours pas.\n",
      "Agent: Je vais lancer un diagnostic....\n",
      "\n",
      "\n",
      "--- Exemples du Cluster 2 ---\n",
      "Dialogue 3:\n",
      "Client_8: Je souhaite suivre ma commande.\n",
      "Agent: Pouvez-vous me donner votre numéro de commande ?\n",
      "Client_8: C'est le 12345.\n",
      "Agent: Elle est en cours de livraison....\n",
      "\n"
     ]
    }
   ],
   "source": [
    "unique, counts = np.unique(clusters, return_counts=True) # np.unique() trouve les valeurs uniques dans 'clusters' et compte leurs occurrences\n",
    "plt.bar(unique, counts, color='lightgreen') # Crée un graphique en barres pour la répartition des clusters\n",
    "plt.xlabel(\"Cluster\") # Label de l'axe des x\n",
    "plt.ylabel(\"Nombre de dialogues\") # Label de l'axe des y\n",
    "plt.title(\"Répartition des dialogues par cluster\") # Titre du graphique\n",
    "plt.xticks(unique) # Définit les ticks de l'axe des x\n",
    "plt.show() # Affiche le graphique\n",
    "\n",
    "# Affichage d'exemples de dialogues pour chaque cluster\n",
    "for cluster_id in unique:# Parcourt chaque cluster unique\n",
    "    print(f\"\\n--- Exemples du Cluster {cluster_id} ---\") # Titre pour chaque cluster\n",
    "    indices = [i for i, label in enumerate(clusters) if label == cluster_id] # Trouve les indices des dialogues appartenant au cluster actuel\n",
    "    for idx in indices[:2]:  # Affiche 2 exemples par cluster\n",
    "        print(f\"Dialogue {idx}:\\n{all_dialogues[idx][:300]}...\\n\")  # Affiche les 300 premiers caractères"
   ]
  },
  {
   "cell_type": "markdown",
   "id": "7255696d",
   "metadata": {},
   "source": [
    "### Étape 9 : Analyse des clusters\n",
    "\n",
    "Dans cette étape, nous allons explorer le contenu de chaque cluster pour mieux comprendre les différences thématiques entre les groupes de dialogues.  \n",
    "L’objectif est de :\n",
    "- Identifier les mots-clés spécifiques à chaque cluster.\n",
    "- Repérer les sujets ou problématiques dominantes dans chaque groupe.\n",
    "- Préparer une analyse plus fine (sentiment, intention, recommandations).\n",
    "\n",
    "Le code suivant calcule et affiche les mots-clés les plus fréquents pour chaque cluster."
   ]
  },
  {
   "cell_type": "code",
   "execution_count": 15,
   "id": "097a1fb9",
   "metadata": {},
   "outputs": [
    {
     "name": "stdout",
     "output_type": "stream",
     "text": [
      "\n",
      "Cluster 0 - Mots-clés les plus fréquents :\n",
      "agent: 14\n",
      "bien: 7\n",
      "bonjour: 7\n",
      "demande: 7\n",
      "facture: 7\n",
      "montant: 7\n",
      "pouvez: 7\n",
      "question: 7\n",
      "sûr: 7\n",
      "vérifie: 7\n",
      "\n",
      "Cluster 1 - Mots-clés les plus fréquents :\n",
      "agent: 20\n",
      "question: 5\n",
      "bien: 0\n",
      "bonjour: 0\n",
      "demande: 0\n",
      "facture: 0\n",
      "montant: 0\n",
      "pouvez: 0\n",
      "sûr: 0\n",
      "vérifie: 0\n",
      "\n",
      "Cluster 2 - Mots-clés les plus fréquents :\n",
      "agent: 2\n",
      "pouvez: 1\n",
      "bien: 0\n",
      "bonjour: 0\n",
      "demande: 0\n",
      "facture: 0\n",
      "montant: 0\n",
      "question: 0\n",
      "sûr: 0\n",
      "vérifie: 0\n"
     ]
    }
   ],
   "source": [
    "for cluster_id in np.unique(clusters):\n",
    "    indices = [i for i, label in enumerate(clusters) if label == cluster_id]\n",
    "    dialogues_cluster = [all_dialogues[i] for i in indices]\n",
    "    X_cluster = vectorizer.transform(dialogues_cluster)\n",
    "    word_counts = X_cluster.toarray().sum(axis=0)\n",
    "    words = vectorizer.get_feature_names_out()\n",
    "    print(f\"\\nCluster {cluster_id} - Mots-clés les plus fréquents :\")\n",
    "    for w, c in sorted(zip(words, word_counts), key=lambda x: x[1], reverse=True):\n",
    "        print(f\"{w}: {c}\")"
   ]
  },
  {
   "cell_type": "markdown",
   "id": "6e5938ce",
   "metadata": {},
   "source": [
    "### Étape 10 : Analyse de sentiment par cluster\n",
    "\n",
    "Pour compléter l’analyse thématique, il est utile d’évaluer le ressenti (positif, négatif, neutre) des dialogues dans chaque cluster.  \n",
    "Cette étape permet de :\n",
    "- Comprendre l’état d’esprit des interlocuteurs selon les groupes thématiques.\n",
    "- Identifier les clusters où les échanges sont plus tendus ou satisfaisants.\n",
    "- Adapter les réponses ou actions selon le ressenti dominant."
   ]
  },
  {
   "cell_type": "code",
   "execution_count": 19,
   "id": "d99e2f9d",
   "metadata": {},
   "outputs": [
    {
     "name": "stderr",
     "output_type": "stream",
     "text": [
      "Device set to use mps:0\n"
     ]
    },
    {
     "name": "stdout",
     "output_type": "stream",
     "text": [
      "\n",
      "--- Cluster 0 ---\n",
      "Dialogue 0 : [{'label': '3 stars', 'score': 0.30661848187446594}]\n",
      "\n",
      "--- Cluster 1 ---\n",
      "Dialogue 7 : [{'label': '1 star', 'score': 0.3115607798099518}]\n",
      "\n",
      "--- Cluster 2 ---\n",
      "Dialogue 3 : [{'label': '1 star', 'score': 0.30008402466773987}]\n"
     ]
    }
   ],
   "source": [
    "sentiment_analyzer = pipeline(\"sentiment-analysis\", model=\"nlptown/bert-base-multilingual-uncased-sentiment\")\n",
    "\n",
    "for cluster_id in np.unique(clusters):\n",
    "    print(f\"\\n--- Cluster {cluster_id} ---\")\n",
    "    \n",
    "    idx = [i for i, label in enumerate(clusters) if label == cluster_id][0]\n",
    "    result = sentiment_analyzer(all_dialogues[idx][:512])\n",
    "    print(f\"Dialogue {idx} : {result}\")"
   ]
  },
  {
   "cell_type": "markdown",
   "id": "a2547801",
   "metadata": {},
   "source": [
    "### Interprétation des résultats de l’analyse de sentiment\n",
    "\n",
    "L’analyse de sentiment par cluster permet d’identifier le ressenti dominant dans chaque groupe de dialogues :\n",
    "\n",
    "- **Cluster 0** : Le dialogue analysé présente un score de 3 étoiles, ce qui indique un ressenti neutre ou moyen.\n",
    "- **Cluster 1** et **Cluster 2** : Les dialogues analysés obtiennent 1 étoile, traduisant un ressenti négatif.\n",
    "\n",
    "**Ce que cela signifie :**\n",
    "- Les clusters 1 et 2 regroupent des échanges où les interlocuteurs expriment davantage de mécontentement ou d’insatisfaction.\n",
    "- Le cluster 0 contient des dialogues plus neutres, sans émotion forte.\n",
    "\n",
    "Cette analyse aide à cibler les groupes de dialogues nécessitant une attention particulière (ex : clusters négatifs) et à adapter les réponses ou actions selon"
   ]
  },
  {
   "cell_type": "markdown",
   "id": "defdd8f3",
   "metadata": {},
   "source": [
    "### Étape 11 : Synthèse et recommandations\n",
    "\n",
    "Après l’analyse thématique et de sentiment, il est utile de synthétiser les principaux enseignements et de proposer des recommandations :\n",
    "\n",
    "- **Synthèse des résultats :**\n",
    "    - Les clusters identifiés regroupent des dialogues selon leurs thèmes et leur ressenti.\n",
    "    - Certains groupes présentent un ressenti négatif, ce qui peut indiquer des problématiques à traiter en priorité.\n",
    "    - D’autres clusters sont plus neutres, reflétant des échanges standards ou informatifs.\n",
    "\n",
    "- **Recommandations :**\n",
    "    - Prioriser le traitement des clusters à sentiment négatif (ex : réclamations, insatisfactions).\n",
    "    - Adapter les réponses ou les processus selon les tendances détectées dans chaque groupe.\n",
    "    - Utiliser ces analyses pour améliorer la qualité du service et anticiper les besoins des clients.\n",
    "\n",
    "Cette étape permet de passer de l’analyse à l’action, en s’appuyant sur les données pour orienter les décisions."
   ]
  },
  {
   "cell_type": "markdown",
   "id": "b7423e80",
   "metadata": {},
   "source": [
    "### Étape 12 : Limites et pistes d’amélioration\n",
    "\n",
    "Pour aller plus loin dans l’analyse des dialogues téléphoniques, il est important de prendre en compte certaines limites et d’envisager des pistes d’amélioration :\n",
    "\n",
    "- **Limites de l’approche actuelle :**\n",
    "    - Les modèles utilisés sont génériques et peuvent manquer de précision pour des dialogues spécifiques au secteur.\n",
    "    - L’analyse de sentiment se base sur un seul exemple par cluster : une analyse globale serait plus représentative.\n",
    "    - Les clusters sont définis selon la fréquence des mots, ce qui peut ignorer des nuances importantes (ex : contexte, ironie).\n",
    "\n",
    "- **Pistes d’amélioration :**\n",
    "    - Utiliser des modèles NLP spécialisés pour le français ou pour le domaine téléphonique.\n",
    "    - Appliquer l’analyse de sentiment à tous les dialogues de chaque cluster et calculer la proportion de chaque ressenti.\n",
    "    - Explorer des méthodes de clustering plus avancées (ex : embeddings, modèles de topic modeling).\n",
    "    - Ajouter une étape de validation humaine pour affiner l’interprétation des résultats.\n",
    "\n",
    "Ces pistes permettront d’obtenir une analyse plus fine et plus adaptée aux besoins du projet."
   ]
  },
  {
   "cell_type": "markdown",
   "id": "ace02a7c",
   "metadata": {},
   "source": [
    "### Conclusion\n",
    "\n",
    "Ce notebook a permis d’explorer différentes techniques avancées de NLP pour analyser les dialogues téléphoniques :\n",
    "\n",
    "- Extraction et visualisation des thèmes principaux.\n",
    "- Segmentation des dialogues en clusters thématiques.\n",
    "- Analyse du ressenti (sentiment) par groupe de dialogues.\n",
    "- Synthèse des résultats et recommandations pour l’action.\n",
    "\n",
    "**En résumé :**\n",
    "L’approche présentée offre une première base pour comprendre les tendances, problématiques et ressentis dans les échanges téléphoniques.  \n",
    "Les pistes d’amélioration identifiées permettront d’affiner l’analyse et d’adapter les outils aux besoins spécifiques du projet.\n",
    "\n",
    "**Prochaines étapes possibles :**\n",
    "- Tester des modèles NLP spécialisés pour le secteur ou la langue.\n",
    "- Automatiser la génération de rapports.\n",
    "- Intégrer ces analyses dans des outils métiers pour un suivi en temps réel.\n",
    "\n",
    "Ce travail ouvre la voie à une utilisation plus stratégique des données conversationnelles pour améliorer la qualité du service et l’expérience client."
   ]
  }
 ],
 "metadata": {
  "kernelspec": {
   "display_name": "Python 3",
   "language": "python",
   "name": "python3"
  },
  "language_info": {
   "codemirror_mode": {
    "name": "ipython",
    "version": 3
   },
   "file_extension": ".py",
   "mimetype": "text/x-python",
   "name": "python",
   "nbconvert_exporter": "python",
   "pygments_lexer": "ipython3",
   "version": "3.10.17"
  }
 },
 "nbformat": 4,
 "nbformat_minor": 5
}
