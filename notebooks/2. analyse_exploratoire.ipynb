{
 "cells": [
  {
   "cell_type": "markdown",
   "id": "a40141f0",
   "metadata": {},
   "source": [
    "# 3. Analyse exploratoire des données synthétiques téléphonie"
   ]
  },
  {
   "cell_type": "markdown",
   "id": "7bd5ca93",
   "metadata": {},
   "source": [
    "Ce notebook permet d’explorer et de comprendre les données générées pour le projet téléphonie. On va analyser la structure, les statistiques, la répartition des appels, des agents, des sujets, et vérifier l’anonymisation des données."
   ]
  },
  {
   "cell_type": "markdown",
   "id": "572ec88d",
   "metadata": {},
   "source": [
    "## Objectif de l’analyse\n",
    "\n",
    "L’objectif de ce notebook est de :\n",
    "- Charger les données synthétiques générées (appels téléphoniques et dialogues).\n",
    "- Explorer la structure et le contenu des fichiers.\n",
    "- Calculer des statistiques descriptives (nombre d’appels, durée, répartition par agent et sujet, taux de résolution…).\n",
    "- Visualiser les principales tendances.\n",
    "- Vérifier que les données personnelles sont bien anonymisées."
   ]
  },
  {
   "cell_type": "markdown",
   "id": "238309e0",
   "metadata": {},
   "source": [
    "### Étape 1 : Import des librairies\n",
    "Dans cette étape, on importe toutes les librairies nécessaires pour le projet. On utilise des librairies standards de Python et des librairies spécialisées pour la data science (pandas, matplotlib)."
   ]
  },
  {
   "cell_type": "code",
   "execution_count": 8,
   "id": "745a3197",
   "metadata": {},
   "outputs": [],
   "source": [
    "# ----- Import libraries PEP 8 -----\n",
    "# ----- Standard library -----\n",
    "import pandas as pd # Librairie qui sert à manipuler et analyser les métadonnées (tableau de donnéez, CSV, Excel, SQL, etc.)\n",
    "import matplotlib.pyplot as plt # On importe la librairie matplotlib pour personnaliser le graphique\n",
    "\n",
    "# ----- Third party libraries -----\n"
   ]
  },
  {
   "cell_type": "markdown",
   "id": "63b0395b",
   "metadata": {},
   "source": [
    "### Étape 2 : Chargement des données\n",
    "\n",
    "Dans cette étape, nous allons charger le fichier CSV des appels téléphoniques généré précédemment.  \n",
    "On utilise la librairie pandas pour lire le fichier et obtenir un tableau de données facile à explorer.  \n",
    "Cela nous permettra de visualiser la structure des données et de commencer l’analyse."
   ]
  },
  {
   "cell_type": "code",
   "execution_count": 3,
   "id": "a593b1c6",
   "metadata": {},
   "outputs": [
    {
     "name": "stdout",
     "output_type": "stream",
     "text": [
      "Fichier CSV chargé avec succès.\n"
     ]
    }
   ],
   "source": [
    "cdr_df = pd.read_csv(\"../data/raw/cdr_synthetic.csv\") # read_csv() sert à lire un fichier CSV et le convertir en un DataFrame pandas.\n",
    "\n",
    "print(\"Fichier CSV chargé avec succès.\")"
   ]
  },
  {
   "cell_type": "markdown",
   "id": "70d1bc66",
   "metadata": {},
   "source": [
    "### Étape 3 : Aperçu et structure des données\n",
    "\n",
    "Dans cette étape, on affiche les premières lignes du tableau de données pour vérifier que le chargement s’est bien déroulé et comprendre la structure du fichier.  \n",
    "On utilise la méthode `.head()` de pandas pour visualiser rapidement les colonnes et les premiers exemples d’appels téléphoniques."
   ]
  },
  {
   "cell_type": "code",
   "execution_count": 4,
   "id": "06c0094c",
   "metadata": {},
   "outputs": [
    {
     "data": {
      "application/vnd.microsoft.datawrangler.viewer.v0+json": {
       "columns": [
        {
         "name": "index",
         "rawType": "int64",
         "type": "integer"
        },
        {
         "name": "call_id",
         "rawType": "object",
         "type": "string"
        },
        {
         "name": "caller_id",
         "rawType": "object",
         "type": "string"
        },
        {
         "name": "agent_id",
         "rawType": "object",
         "type": "string"
        },
        {
         "name": "start_ts",
         "rawType": "object",
         "type": "string"
        },
        {
         "name": "duration_sec",
         "rawType": "int64",
         "type": "integer"
        },
        {
         "name": "topic",
         "rawType": "object",
         "type": "string"
        },
        {
         "name": "resolved",
         "rawType": "int64",
         "type": "integer"
        }
       ],
       "ref": "74fcf883-2945-41d7-a60c-5f6279308b99",
       "rows": [
        [
         "0",
         "CALL_0001",
         "b2b79fe6a94f1d82fa5972eaa6647146fd97d3cec89b53d95d611cdd8ad1a4cc",
         "D",
         "2025-08-16T07:42:51.470748",
         "1324",
         "orders",
         "1"
        ],
        [
         "1",
         "CALL_0002",
         "9a414725d4d31b8e443e0f5f4ea3d9eb1c74f6291422f8f72eede9bee7cc1bef",
         "B",
         "2025-08-27T10:12:51.470748",
         "1268",
         "orders",
         "1"
        ],
        [
         "2",
         "CALL_0003",
         "aab3e738cb3d19170392f1516db9aae2398b40af97a0f94c4d6cc4f3f27a5b69",
         "D",
         "2025-08-26T20:25:51.470748",
         "160",
         "other",
         "1"
        ],
        [
         "3",
         "CALL_0004",
         "34f186ba3c2f4059776724f32f746e17a124f51cbba67f3aa485e5b24d0639b0",
         "D",
         "2025-08-17T09:55:51.470748",
         "1245",
         "returns",
         "0"
        ],
        [
         "4",
         "CALL_0005",
         "ea24093ef6253cec250cd830d4a8ae0692f362c539bf23ed6882568b3eb805f5",
         "B",
         "2025-09-04T15:35:51.470748",
         "282",
         "returns",
         "1"
        ]
       ],
       "shape": {
        "columns": 7,
        "rows": 5
       }
      },
      "text/html": [
       "<div>\n",
       "<style scoped>\n",
       "    .dataframe tbody tr th:only-of-type {\n",
       "        vertical-align: middle;\n",
       "    }\n",
       "\n",
       "    .dataframe tbody tr th {\n",
       "        vertical-align: top;\n",
       "    }\n",
       "\n",
       "    .dataframe thead th {\n",
       "        text-align: right;\n",
       "    }\n",
       "</style>\n",
       "<table border=\"1\" class=\"dataframe\">\n",
       "  <thead>\n",
       "    <tr style=\"text-align: right;\">\n",
       "      <th></th>\n",
       "      <th>call_id</th>\n",
       "      <th>caller_id</th>\n",
       "      <th>agent_id</th>\n",
       "      <th>start_ts</th>\n",
       "      <th>duration_sec</th>\n",
       "      <th>topic</th>\n",
       "      <th>resolved</th>\n",
       "    </tr>\n",
       "  </thead>\n",
       "  <tbody>\n",
       "    <tr>\n",
       "      <th>0</th>\n",
       "      <td>CALL_0001</td>\n",
       "      <td>b2b79fe6a94f1d82fa5972eaa6647146fd97d3cec89b53...</td>\n",
       "      <td>D</td>\n",
       "      <td>2025-08-16T07:42:51.470748</td>\n",
       "      <td>1324</td>\n",
       "      <td>orders</td>\n",
       "      <td>1</td>\n",
       "    </tr>\n",
       "    <tr>\n",
       "      <th>1</th>\n",
       "      <td>CALL_0002</td>\n",
       "      <td>9a414725d4d31b8e443e0f5f4ea3d9eb1c74f6291422f8...</td>\n",
       "      <td>B</td>\n",
       "      <td>2025-08-27T10:12:51.470748</td>\n",
       "      <td>1268</td>\n",
       "      <td>orders</td>\n",
       "      <td>1</td>\n",
       "    </tr>\n",
       "    <tr>\n",
       "      <th>2</th>\n",
       "      <td>CALL_0003</td>\n",
       "      <td>aab3e738cb3d19170392f1516db9aae2398b40af97a0f9...</td>\n",
       "      <td>D</td>\n",
       "      <td>2025-08-26T20:25:51.470748</td>\n",
       "      <td>160</td>\n",
       "      <td>other</td>\n",
       "      <td>1</td>\n",
       "    </tr>\n",
       "    <tr>\n",
       "      <th>3</th>\n",
       "      <td>CALL_0004</td>\n",
       "      <td>34f186ba3c2f4059776724f32f746e17a124f51cbba67f...</td>\n",
       "      <td>D</td>\n",
       "      <td>2025-08-17T09:55:51.470748</td>\n",
       "      <td>1245</td>\n",
       "      <td>returns</td>\n",
       "      <td>0</td>\n",
       "    </tr>\n",
       "    <tr>\n",
       "      <th>4</th>\n",
       "      <td>CALL_0005</td>\n",
       "      <td>ea24093ef6253cec250cd830d4a8ae0692f362c539bf23...</td>\n",
       "      <td>B</td>\n",
       "      <td>2025-09-04T15:35:51.470748</td>\n",
       "      <td>282</td>\n",
       "      <td>returns</td>\n",
       "      <td>1</td>\n",
       "    </tr>\n",
       "  </tbody>\n",
       "</table>\n",
       "</div>"
      ],
      "text/plain": [
       "     call_id                                          caller_id agent_id  \\\n",
       "0  CALL_0001  b2b79fe6a94f1d82fa5972eaa6647146fd97d3cec89b53...        D   \n",
       "1  CALL_0002  9a414725d4d31b8e443e0f5f4ea3d9eb1c74f6291422f8...        B   \n",
       "2  CALL_0003  aab3e738cb3d19170392f1516db9aae2398b40af97a0f9...        D   \n",
       "3  CALL_0004  34f186ba3c2f4059776724f32f746e17a124f51cbba67f...        D   \n",
       "4  CALL_0005  ea24093ef6253cec250cd830d4a8ae0692f362c539bf23...        B   \n",
       "\n",
       "                     start_ts  duration_sec    topic  resolved  \n",
       "0  2025-08-16T07:42:51.470748          1324   orders         1  \n",
       "1  2025-08-27T10:12:51.470748          1268   orders         1  \n",
       "2  2025-08-26T20:25:51.470748           160    other         1  \n",
       "3  2025-08-17T09:55:51.470748          1245  returns         0  \n",
       "4  2025-09-04T15:35:51.470748           282  returns         1  "
      ]
     },
     "execution_count": 4,
     "metadata": {},
     "output_type": "execute_result"
    }
   ],
   "source": [
    "cdr_df.head() # head() affiche les premières lignes du DataFrame pour un aperçu rapide des données."
   ]
  },
  {
   "cell_type": "markdown",
   "id": "1d657bc2",
   "metadata": {},
   "source": [
    "### Étape 4 : Statistiques descriptives sur les appels\n",
    "\n",
    "Dans cette étape, on va calculer des statistiques simples pour mieux comprendre le jeu de données :\n",
    "- Nombre total d’appels\n",
    "- Durée moyenne, minimale et maximale des appels\n",
    "- Répartition des appels par agent et par sujet\n",
    "- Taux de résolution des appels\n",
    "\n",
    "Ces statistiques permettent d’avoir une vue d’ensemble et de détecter d’éventuelles anomalies ou tendances."
   ]
  },
  {
   "cell_type": "code",
   "execution_count": 6,
   "id": "d6400a3f",
   "metadata": {},
   "outputs": [
    {
     "name": "stdout",
     "output_type": "stream",
     "text": [
      "Nombre total d'appels : 200\n",
      "\n",
      "Durée moyenne : 851.565\n",
      "Durée minimale : 31\n",
      "Durée maximale : 1798\n",
      "\n",
      "Appels par agent :\n",
      "agent_id\n",
      "B    47\n",
      "E    42\n",
      "A    39\n",
      "C    39\n",
      "D    33\n",
      "Name: count, dtype: int64\n",
      "\n",
      "Appels par sujet :\n",
      "topic\n",
      "tech_support    42\n",
      "billing         42\n",
      "returns         41\n",
      "other           38\n",
      "orders          37\n",
      "Name: count, dtype: int64\n",
      "\n",
      "Taux de résolution : 0.815\n"
     ]
    }
   ],
   "source": [
    "# Nombre total d'appels\n",
    "print(\"Nombre total d'appels :\", len(cdr_df)) # len() donne le nombre de lignes (appels) dans le DataFrame\n",
    "\n",
    "# Statistiques sur la durée des appels\n",
    "print(\"\\nDurée moyenne :\", cdr_df['duration_sec'].mean()) # .mean() calcule la moyenne\n",
    "print(\"Durée minimale :\", cdr_df['duration_sec'].min()) # .min() calcule la valeur la plus basse\n",
    "print(\"Durée maximale :\", cdr_df['duration_sec'].max()) # .max() calcule la valeur la plus haute\n",
    "\n",
    "# Répartition des appels par agent\n",
    "print(\"\\nAppels par agent :\")\n",
    "print(cdr_df['agent_id'].value_counts()) # .value_counts() compte le nombre d'appels par agent\n",
    "\n",
    "# Répartition des appels par sujet\n",
    "print(\"\\nAppels par sujet :\")\n",
    "print(cdr_df['topic'].value_counts()) # .value_counts() compte le nombre d'appels par sujet\n",
    "\n",
    "# Taux de résolution\n",
    "print(\"\\nTaux de résolution :\", cdr_df['resolved'].mean()) # .mean() donne le pourcentage d'appels résolus"
   ]
  },
  {
   "cell_type": "markdown",
   "id": "6524bca8",
   "metadata": {},
   "source": [
    "### Étape 5 : Visualisation simple des données\n",
    "\n",
    "Dans cette étape, on va représenter graphiquement la distribution des durées d’appels pour mieux comprendre la répartition des valeurs.  \n",
    "On utilise la fonction `hist()` de pandas pour afficher un histogramme."
   ]
  },
  {
   "cell_type": "code",
   "execution_count": null,
   "id": "4f458f3c",
   "metadata": {},
   "outputs": [
    {
     "data": {
      "image/png": "[encoded data removed]",
      "text/plain": [
       "<Figure size 640x480 with 1 Axes>"
      ]
     },
     "metadata": {},
     "output_type": "display_data"
    }
   ],
   "source": [
    "# \n",
    "cdr_df['duration_sec'].hist() # .hist() affiche un histogramme de la colonne 'duration_sec' pour visualiser la distribution des durées d'appels.\n",
    "\n",
    "plt.xlabel(\"Durée des appels (secondes)\") # Titre de l’axe X\n",
    "plt.ylabel(\"Nombre d'appels\") # Titre de l’axe Y\n",
    "plt.title(\"Distribution des durées d'appels téléphoniques\") # Titre du graphique\n",
    "plt.show() # Affiche le graphique avec les titres"
   ]
  },
  {
   "cell_type": "markdown",
   "id": "ec9d2cb7",
   "metadata": {},
   "source": [
    "### Étape 6 : Vérification de l’anonymisation des données\n",
    "\n",
    "Dans cette étape, on vérifie que les identifiants des appelants (`caller_id`) sont bien anonymisés :  \n",
    "- On affiche quelques valeurs pour s’assurer qu’il ne s’agit pas de vrais numéros de téléphone, mais de chaînes de caractères hashées.\n",
    "- On vérifie la longueur et le format des identifiants.\n"
   ]
  },
  {
   "cell_type": "code",
   "execution_count": 10,
   "id": "2fea5a04",
   "metadata": {},
   "outputs": [
    {
     "name": "stdout",
     "output_type": "stream",
     "text": [
      "0    b2b79fe6a94f1d82fa5972eaa6647146fd97d3cec89b53...\n",
      "1    9a414725d4d31b8e443e0f5f4ea3d9eb1c74f6291422f8...\n",
      "2    aab3e738cb3d19170392f1516db9aae2398b40af97a0f9...\n",
      "3    34f186ba3c2f4059776724f32f746e17a124f51cbba67f...\n",
      "4    ea24093ef6253cec250cd830d4a8ae0692f362c539bf23...\n",
      "Name: caller_id, dtype: object\n",
      "Longueur d'un caller_id : 64\n"
     ]
    }
   ],
   "source": [
    "# Afficher les 5 premiers caller_id pour vérifier l'anonymisation\n",
    "print(cdr_df['caller_id'].head()) # .head() Affiche les 5 premiers identifiants anonymisés\n",
    "\n",
    "# Vérifier la longueur des identifiants (doit être 64 caractères pour SHA-256)\n",
    "print(\"Longueur d'un caller_id :\", len(cdr_df['caller_id'][0])) # .len() Affiche la longueur du premier identifiant"
   ]
  },
  {
   "cell_type": "markdown",
   "id": "2304f44b",
   "metadata": {},
   "source": [
    "### Conclusion\n",
    "\n",
    "Ce notebook a permis d’explorer les données synthétiques téléphonie :\n",
    "- Chargement et aperçu des données\n",
    "- Calcul de statistiques descriptives\n",
    "- Visualisation de la distribution des durées d’appels\n",
    "- Vérification de l’anonymisation des identifiants\n",
    "\n",
    "Ces analyses montrent que les données sont structurées et anonymisées correctement.  \n",
    "La prochaine étape pourrait être l’analyse des dialogues ou l’application de modèles d’IA pour extraire des insights ou automatiser des tâches."
   ]
  }
 ],
 "metadata": {
  "kernelspec": {
   "display_name": "Python 3",
   "language": "python",
   "name": "python3"
  },
  "language_info": {
   "codemirror_mode": {
    "name": "ipython",
    "version": 3
   },
   "file_extension": ".py",
   "mimetype": "text/x-python",
   "name": "python",
   "nbconvert_exporter": "python",
   "pygments_lexer": "ipython3",
   "version": "3.10.17"
  }
 },
 "nbformat": 4,
 "nbformat_minor": 5
}
