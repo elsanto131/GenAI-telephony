{
 "cells": [
  {
   "cell_type": "markdown",
   "id": "b6eb4dc0",
   "metadata": {},
   "source": [
    "# 5. Analyse avancée des dialogues téléphoniques (NLP)"
   ]
  },
  {
   "cell_type": "markdown",
   "id": "58a21c06",
   "metadata": {},
   "source": [
    "Ce notebook réalise des analyses avancées sur les dialogues téléphoniques du projet :  \n",
    "- Extraction de mots-clés  \n",
    "- Analyse de sentiments  \n",
    "- Classification des échanges  \n",
    "\n",
    "Il s’appuie sur les données préparées dans le notebook précédent."
   ]
  },
  {
   "cell_type": "markdown",
   "id": "37bfec24",
   "metadata": {},
   "source": [
    "## Objectif\n",
    "\n",
    "L’objectif de ce notebook est de :\n",
    "- Appliquer des techniques de NLP (Natural Language Processing) sur les dialogues\n",
    "- Extraire les thèmes principaux et les mots-clés\n",
    "- Analyser le ressenti des échanges (positif, négatif, neutre)\n",
    "- Préparer les données pour des modèles de classification ou d’automatisation"
   ]
  },
  {
   "cell_type": "markdown",
   "id": "b814a767",
   "metadata": {},
   "source": [
    "### Étape 1 : Import des librairies\n",
    "\n",
    "Dans cette étape, on importe toutes les librairies nécessaires pour le projet.  \n",
    "On utilise des librairies standards de Python et des librairies spécialisées pour le NLP (NLTK, spaCy, etc.)."
   ]
  },
  {
   "cell_type": "code",
   "execution_count": null,
   "id": "c080c1c9",
   "metadata": {},
   "outputs": [],
   "source": [
    "# ----- Import libraries PEP 8 -----\n",
    "# ----- Standard library -----\n",
    "from collections import Counter \n",
    "import matplotlib.pyplot as plt \n",
    "import os \n",
    "import pandas as pd \n",
    "import re\n",
    "\n",
    "# ----- Third party libraries -----\n",
    "from textblob import TextBlob"
   ]
  },
  {
   "cell_type": "markdown",
   "id": "c03d3c16",
   "metadata": {},
   "source": [
    "### Étape 2 : Chargement des dialogues\n",
    "\n",
    "On charge le contenu de tous les dialogues dans une liste Python pour faciliter les traitements NLP."
   ]
  },
  {
   "cell_type": "code",
   "execution_count": null,
   "id": "247c0d9b",
   "metadata": {},
   "outputs": [
    {
     "name": "stdout",
     "output_type": "stream",
     "text": [
      "\n",
      "Dialogues chargés\n",
      "Nombre de dialogues chargés : 18\n"
     ]
    }
   ],
   "source": [
    "# Récuperation de la liste des fichiers transcripts\n",
    "transcripts_folder = \"../data/raw/transcripts\" \n",
    "files = os.listdir(transcripts_folder) \n",
    "# Liste contenant tous les dialogues\n",
    "all_dialogues = [] \n",
    "\n",
    "# Lecture de chaque fichier et ajout à la liste\n",
    "for f in files: \n",
    "    with open(os.path.join(transcripts_folder, f), \"r\", encoding=\"utf-8\") as file: \n",
    "        all_dialogues.append(file.read())\n",
    "        \n",
    "print(\"\\nDialogues chargés\") \n",
    "print(\"Nombre de dialogues chargés :\", len(all_dialogues))"
   ]
  },
  {
   "cell_type": "markdown",
   "id": "ddbde928",
   "metadata": {},
   "source": [
    "### Étape 3 : Extraction de mots-clés\n",
    "\n",
    "Dans cette étape, on extrait les mots-clés les plus fréquents dans l’ensemble des dialogues.  \n",
    "Cela permet d’identifier les thèmes principaux abordés lors des échanges téléphoniques."
   ]
  },
  {
   "cell_type": "code",
   "execution_count": null,
   "id": "54c691cc",
   "metadata": {},
   "outputs": [
    {
     "name": "stdout",
     "output_type": "stream",
     "text": [
      "Mots-clés les plus fréquents :\n",
      "agent: 36\n",
      "je: 27\n",
      "vous: 23\n",
      "ne: 15\n",
      "j: 12\n",
      "ai: 12\n",
      "une: 12\n",
      "question: 12\n",
      "un: 12\n",
      "pas: 12\n",
      "de: 12\n",
      "votre: 11\n",
      "ma: 10\n",
      "il: 9\n",
      "pouvez: 8\n",
      "bonjour: 7\n",
      "sur: 7\n",
      "facture: 7\n",
      "bien: 7\n",
      "sûr: 7\n"
     ]
    }
   ],
   "source": [
    "# Concaténation de tous les dialogues \n",
    "# en une seule chaîne de texte avec espaces entre chaque dialogue\n",
    "all_text = \" \".join(all_dialogues) \n",
    "# Recherche de tous les mots dans le texte\n",
    "words = re.findall(r'\\b\\w+\\b', all_text.lower()) \n",
    "\n",
    "# Compte les occurrences de chaque mot\n",
    "word_counts = Counter(words) \n",
    "\n",
    "# Affichage des 20 mots les plus fréquents\n",
    "print(\"Mots-clés les plus fréquents :\") \n",
    "for word, count in word_counts.most_common(20):\n",
    "    print(f\"{word}: {count}\")"
   ]
  },
  {
   "cell_type": "markdown",
   "id": "7463cc04",
   "metadata": {},
   "source": [
    "### Étape 4 : Analyse de sentiments\n",
    "\n",
    "Dans cette étape, on analyse le ressenti général des dialogues (positif, négatif, neutre) à l’aide d’une librairie NLP."
   ]
  },
  {
   "cell_type": "code",
   "execution_count": null,
   "id": "138d919c",
   "metadata": {},
   "outputs": [
    {
     "name": "stdout",
     "output_type": "stream",
     "text": [
      "Score moyen de sentiment : 0.0\n"
     ]
    }
   ],
   "source": [
    "# TextBlob analyse le sentiment de chaque dialogue et extrait le score de polarité\n",
    "sentiments = [TextBlob(dialogue).sentiment.polarity for dialogue in all_dialogues] \n",
    "\n",
    "print(\"Score moyen de sentiment :\", sum(sentiments) / len(sentiments)) "
   ]
  },
  {
   "cell_type": "markdown",
   "id": "0c9b8205",
   "metadata": {},
   "source": [
    "### Pourquoi le score moyen de sentiment est 0.0 ?\n",
    "\n",
    "Le score de sentiment calculé par TextBlob est neutre (0.0) pour l’ensemble des dialogues.  \n",
    " \n",
    "Plusieurs raisons peuvent expliquer ce résultat :\n",
    "- Les dialogues téléphoniques sont souvent factuels et formels, avec peu d’expressions émotionnelles.\n",
    "- TextBlob est optimisé pour l’anglais ; l’analyse de textes en français peut être moins précise.\n",
    "- Les échanges peuvent contenir beaucoup de phrases neutres ou techniques, ce qui réduit la polarité globale.\n",
    "\n",
    "Pour une analyse plus fine, il est possible d’utiliser des outils NLP spécialisés pour le français ou d’explorer la distribution des"
   ]
  },
  {
   "cell_type": "markdown",
   "id": "f67e59ee",
   "metadata": {},
   "source": [
    "### Conclusion\n",
    "\n",
    "Ce notebook a permis d’appliquer des techniques NLP sur les dialogues téléphoniques :  \n",
    "\n",
    "- Extraction des mots-clés principaux pour identifier les thèmes récurrents\n",
    "- Analyse de sentiments (score moyen neutre, explication fournie)\n",
    "- Préparation pour des analyses ou modèles plus avancés (classification, résumé, etc.)\n",
    "\n",
    "Pour aller plus loin, il est recommandé d’utiliser des outils NLP spécialisés pour le français ou d’explorer d’autres méthodes d’analyse adaptées à la nature des"
   ]
  }
 ],
 "metadata": {
  "kernelspec": {
   "display_name": "Python 3",
   "language": "python",
   "name": "python3"
  },
  "language_info": {
   "codemirror_mode": {
    "name": "ipython",
    "version": 3
   },
   "file_extension": ".py",
   "mimetype": "text/x-python",
   "name": "python",
   "nbconvert_exporter": "python",
   "pygments_lexer": "ipython3",
   "version": "3.10.17"
  }
 },
 "nbformat": 4,
 "nbformat_minor": 5
}
